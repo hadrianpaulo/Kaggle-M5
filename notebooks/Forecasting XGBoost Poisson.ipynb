{
 "cells": [
  {
   "cell_type": "code",
   "execution_count": 11,
   "metadata": {},
   "outputs": [
    {
     "name": "stdout",
     "output_type": "stream",
     "text": [
      "Populating the interactive namespace from numpy and matplotlib\n"
     ]
    }
   ],
   "source": [
    "%pylab inline\n",
    "import pandas as pd\n",
    "import plotly.express as px\n",
    "from tqdm import tqdm_notebook\n",
    "from tqdm.autonotebook import tqdm\n",
    "\n",
    "from sktime.forecasting.model_selection import temporal_train_test_split, SlidingWindowSplitter\n",
    "from sktime.performance_metrics.forecasting import smape_loss, mase_loss\n",
    "from sktime.utils.plotting.forecasting import plot_ys\n",
    "from sktime.forecasting.naive import NaiveForecaster\n",
    "from sktime.forecasting.trend import PolynomialTrendForecaster\n",
    "from sktime.forecasting.arima import AutoARIMA\n",
    "from sktime.forecasting.compose import EnsembleForecaster, ReducedRegressionForecaster, TransformedTargetForecaster\n",
    "from sktime.transformers.single_series.detrend import Deseasonalizer, Detrender\n",
    "from xgboost import XGBRegressor\n",
    "import swifter\n",
    "\n",
    "tqdm.pandas()"
   ]
  },
  {
   "cell_type": "markdown",
   "metadata": {},
   "source": [
    "## Objective:\n",
    "\n",
    "Generate __42,840 28-day time-series projections__ where the forecasted time series are:\n",
    "\n",
    "* Unit sales of all products, aggregated for all stores/states - __1__\n",
    "* Unit sales of all products, aggregated for each State - __3__\n",
    "* Unit sales of all products, aggregated for each store - __10__\n",
    "* Unit sales of all products, aggregated for each category - __3__\n",
    "* Unit sales of all products, aggregated for each department - __7__\n",
    "* Unit sales of all products, aggregated for each State and category - __9__\n",
    "* Unit sales of all products, aggregated for each State and department - __21__\n",
    "* Unit sales of all products, aggregated for each store and category - __30__\n",
    "* Unit sales of all products, aggregated for each store and department - __70__\n",
    "* Unit sales of product x, aggregated for all stores/states - __3,049__\n",
    "* Unit sales of product x, aggregated for each State - __9,147__\n",
    "* Unit sales of product x, aggregated for each store - __30,490__"
   ]
  },
  {
   "cell_type": "code",
   "execution_count": 2,
   "metadata": {},
   "outputs": [],
   "source": [
    "df_sales_train = pd.read_csv('../data/sales_train_evaluation.csv')\n",
    "df_sell_prices = pd.read_csv('../data/sell_prices.csv')\n",
    "df_calendar = pd.read_pickle('../data/processed/calendar_OHE.pkl')"
   ]
  },
  {
   "cell_type": "markdown",
   "metadata": {},
   "source": [
    "### Data Preprocessing"
   ]
  },
  {
   "cell_type": "code",
   "execution_count": 3,
   "metadata": {},
   "outputs": [],
   "source": [
    "df_sell_prices['id'] = df_sell_prices['item_id'] + '_' + df_sell_prices['store_id'] + '_evaluation'"
   ]
  },
  {
   "cell_type": "code",
   "execution_count": 180,
   "metadata": {},
   "outputs": [],
   "source": [
    "def generate_naive_xgb_forecast(data, params=None, step_length=1):\n",
    "    if params is None:\n",
    "        params = {\n",
    "            'booster': 'gblinear',\n",
    "            'n_estimators': 800,\n",
    "            'eta': 0.01,\n",
    "            'objective': 'count:poisson',\n",
    "#             'gpu_id': 0,\n",
    "#             'tree_method': 'gpu_hist',\n",
    "        }\n",
    "    regressor = XGBRegressor(\n",
    "        **params\n",
    "    )\n",
    "    forecaster = ReducedRegressionForecaster(regressor, window_length=730, strategy=\"recursive\", step_length=step_length)\n",
    "    fh = np.arange(28) + 1\n",
    "    forecaster.fit(data, fh)\n",
    "    y_last = forecaster.predict(fh)\n",
    "    y_last = y_last.clip()\n",
    "    return y_last.clip(data.min(), data.max()).round()"
   ]
  },
  {
   "cell_type": "code",
   "execution_count": 27,
   "metadata": {},
   "outputs": [],
   "source": [
    "def generate_simple_xgb_forecast(data, params=None, step_length=7):\n",
    "    if params is None:\n",
    "        params = {\n",
    "            'n_estimators': 400,\n",
    "            'eta': 0.01,\n",
    "            'objective': 'reg:squarederror',\n",
    "            'colsample_bytree': 0.5,\n",
    "            'subsample': 0.5,\n",
    "            'max_depth': 13, \n",
    "#             'gpu_id': 0,\n",
    "#             'tree_method': 'gpu_hist',\n",
    "            'eval_metric': 'rmse'\n",
    "        }\n",
    "    regressor = XGBRegressor(\n",
    "        **params\n",
    "    )\n",
    "\n",
    "    forecaster = TransformedTargetForecaster([\n",
    "        (\"deseasonalise\", Deseasonalizer(model=\"additive\", sp=12)),\n",
    "        (\"detrend\", Detrender(forecaster=PolynomialTrendForecaster(degree=1))),\n",
    "        (\"forecast\", ReducedRegressionForecaster(regressor=regressor, window_length=730, strategy=\"recursive\", step_length=step_length))\n",
    "    ])\n",
    "    fh = np.arange(28) + 1\n",
    "    forecaster.fit(data)\n",
    "    y_pred = forecaster.predict(fh)\n",
    "    return y_pred"
   ]
  },
  {
   "cell_type": "code",
   "execution_count": 145,
   "metadata": {},
   "outputs": [
    {
     "data": {
      "application/vnd.jupyter.widget-view+json": {
       "model_id": "7ad9d9d019664c1fb7e87b1c784bb252",
       "version_major": 2,
       "version_minor": 0
      },
      "text/plain": [
       "HBox(children=(FloatProgress(value=0.0, max=30490.0), HTML(value='')))"
      ]
     },
     "metadata": {},
     "output_type": "display_data"
    },
    {
     "name": "stdout",
     "output_type": "stream",
     "text": [
      "\n"
     ]
    }
   ],
   "source": [
    "results = df_sales_train[df_sales_train.columns[df_sales_train.columns.str.startswith('d_')]].copy().progress_apply(\n",
    "    lambda row: generate_naive_xgb_forecast(row.reset_index(drop=True)), axis=1)"
   ]
  },
  {
   "cell_type": "code",
   "execution_count": 146,
   "metadata": {},
   "outputs": [],
   "source": [
    "tmp = pd.DataFrame(results).rename({i: f'F{j}' for i, j in zip(range(1941, 1969), range(1, 29))}, axis=1)"
   ]
  },
  {
   "cell_type": "code",
   "execution_count": 147,
   "metadata": {},
   "outputs": [],
   "source": [
    "tmp['id'] = df_sales_train['id'].copy()"
   ]
  },
  {
   "cell_type": "code",
   "execution_count": 148,
   "metadata": {},
   "outputs": [],
   "source": [
    "tmp = tmp[['id'] + tmp.columns[tmp.columns.str.contains('F')].tolist()]"
   ]
  },
  {
   "cell_type": "code",
   "execution_count": 161,
   "metadata": {},
   "outputs": [],
   "source": [
    "tmp['id'] = tmp['id'].str.replace('validation', 'evaluation')"
   ]
  },
  {
   "cell_type": "code",
   "execution_count": 170,
   "metadata": {},
   "outputs": [],
   "source": [
    "tmp = tmp.fillna(0)"
   ]
  },
  {
   "cell_type": "code",
   "execution_count": 171,
   "metadata": {},
   "outputs": [],
   "source": [
    "tmp2 = df_sales_train[['id'] + [f'd_{i}' for i in range(1914, 1942)]].rename({f'd_{i}': f'F{j}' for i, j in zip(range(1914, 1942), range(1, 29))}, axis=1)\n",
    "tmp2 = tmp2[tmp2['id'].isin(tmp['id'])]\n",
    "tmp2['id'] = tmp2['id'].str.replace('evaluation', 'validation')"
   ]
  },
  {
   "cell_type": "code",
   "execution_count": 172,
   "metadata": {},
   "outputs": [],
   "source": [
    "tmp2.append(tmp).to_csv('../data/results/poisson_xgb_submission.csv', index=False)"
   ]
  },
  {
   "cell_type": "code",
   "execution_count": 181,
   "metadata": {},
   "outputs": [
    {
     "data": {
      "application/vnd.jupyter.widget-view+json": {
       "model_id": "a3e001cd8d0a4389a766ce6381572915",
       "version_major": 2,
       "version_minor": 0
      },
      "text/plain": [
       "HBox(children=(FloatProgress(value=0.0, max=30490.0), HTML(value='')))"
      ]
     },
     "metadata": {},
     "output_type": "display_data"
    },
    {
     "name": "stdout",
     "output_type": "stream",
     "text": [
      "\n"
     ]
    }
   ],
   "source": [
    "results_valid = df_sales_train[\n",
    "    [f'd_{i}' for i in range(1, 1942)]\n",
    "].copy().progress_apply(\n",
    "    lambda row: generate_naive_xgb_forecast(row.reset_index(drop=True), step_length=28), axis=1)"
   ]
  },
  {
   "cell_type": "code",
   "execution_count": 185,
   "metadata": {},
   "outputs": [],
   "source": [
    "results_valid['id'] = tmp['id'].str.replace('evaluation', 'validation')"
   ]
  },
  {
   "cell_type": "code",
   "execution_count": 204,
   "metadata": {},
   "outputs": [],
   "source": [
    "tmp.append(results_valid.rename({i: f'F{j}' for i, j in zip(range(1941, 1969), range(1, 29))}, axis=1)).fillna(0).to_csv('../data/results/poisson_xgb_submission.csv', index=False)"
   ]
  },
  {
   "cell_type": "markdown",
   "metadata": {},
   "source": [
    "### Simple Pipeline"
   ]
  },
  {
   "cell_type": "code",
   "execution_count": 28,
   "metadata": {},
   "outputs": [
    {
     "data": {
      "application/vnd.jupyter.widget-view+json": {
       "model_id": "da2ffd925a1541a3a601e8343ba11015",
       "version_major": 2,
       "version_minor": 0
      },
      "text/plain": [
       "HBox(children=(FloatProgress(value=0.0, max=30490.0), HTML(value='')))"
      ]
     },
     "metadata": {},
     "output_type": "display_data"
    },
    {
     "name": "stdout",
     "output_type": "stream",
     "text": [
      "\n"
     ]
    }
   ],
   "source": [
    "results = df_sales_train[df_sales_train.columns[df_sales_train.columns.str.startswith('d_')]].copy().progress_apply(\n",
    "    lambda row: generate_simple_xgb_forecast(row.reset_index(drop=True)), axis=1)"
   ]
  },
  {
   "cell_type": "code",
   "execution_count": 34,
   "metadata": {},
   "outputs": [
    {
     "data": {
      "text/plain": [
       "count    30490.000000\n",
       "mean         2.371461\n",
       "std          3.951908\n",
       "min          0.008202\n",
       "25%          0.710368\n",
       "50%          1.307806\n",
       "75%          2.536052\n",
       "max        146.460925\n",
       "dtype: float64"
      ]
     },
     "execution_count": 34,
     "metadata": {},
     "output_type": "execute_result"
    }
   ],
   "source": [
    "results.max(axis=1).describe()"
   ]
  },
  {
   "cell_type": "code",
   "execution_count": 35,
   "metadata": {},
   "outputs": [
    {
     "data": {
      "text/plain": [
       "count    30490.000000\n",
       "mean        13.530764\n",
       "std         22.180518\n",
       "min          1.000000\n",
       "25%          5.000000\n",
       "50%          8.000000\n",
       "75%         14.000000\n",
       "max        763.000000\n",
       "dtype: float64"
      ]
     },
     "execution_count": 35,
     "metadata": {},
     "output_type": "execute_result"
    }
   ],
   "source": [
    "df_sales_train[df_sales_train.columns[df_sales_train.columns.str.startswith('d_')]].max(axis=1).describe()"
   ]
  },
  {
   "cell_type": "code",
   "execution_count": null,
   "metadata": {},
   "outputs": [],
   "source": []
  }
 ],
 "metadata": {
  "kernelspec": {
   "display_name": "Python 3",
   "language": "python",
   "name": "python3"
  },
  "language_info": {
   "codemirror_mode": {
    "name": "ipython",
    "version": 3
   },
   "file_extension": ".py",
   "mimetype": "text/x-python",
   "name": "python",
   "nbconvert_exporter": "python",
   "pygments_lexer": "ipython3",
   "version": "3.7.7"
  }
 },
 "nbformat": 4,
 "nbformat_minor": 4
}
