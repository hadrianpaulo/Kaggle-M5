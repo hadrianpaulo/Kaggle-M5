{
 "cells": [
  {
   "cell_type": "code",
   "execution_count": 1,
   "metadata": {},
   "outputs": [
    {
     "name": "stdout",
     "output_type": "stream",
     "text": [
      "Populating the interactive namespace from numpy and matplotlib\n"
     ]
    },
    {
     "name": "stderr",
     "output_type": "stream",
     "text": [
      "Using TensorFlow backend.\n"
     ]
    },
    {
     "data": {
      "text/plain": [
       "['/job:localhost/replica:0/task:0/device:GPU:0']"
      ]
     },
     "execution_count": 1,
     "metadata": {},
     "output_type": "execute_result"
    }
   ],
   "source": [
    "%pylab inline\n",
    "import pandas as pd\n",
    "import tensorflow as tf\n",
    "from keras.models import Model\n",
    "from keras.layers import Input, Conv1D, Dense, Activation, Dropout, Lambda, Multiply, Add, Concatenate\n",
    "from keras.optimizers import Adam\n",
    "import seaborn as sns\n",
    "from scipy.sparse import csr_matrix\n",
    "from datetime import timedelta\n",
    "from keras import backend as K\n",
    "from keras import losses, metrics\n",
    "\n",
    "K.tensorflow_backend._get_available_gpus()"
   ]
  },
  {
   "cell_type": "code",
   "execution_count": 2,
   "metadata": {},
   "outputs": [],
   "source": [
    "from sklearn.decomposition import PCA"
   ]
  },
  {
   "cell_type": "code",
   "execution_count": 3,
   "metadata": {},
   "outputs": [],
   "source": [
    "df_metadata = pd.read_csv('../data/sales_train_evaluation.csv', usecols=['dept_id', 'cat_id', 'store_id', 'state_id'])\n",
    "df_sell_prices = pd.read_csv('../data/sell_prices.csv')\n",
    "df_calendar = pd.read_pickle('../data/processed/calendar_OHE.pkl')"
   ]
  },
  {
   "cell_type": "code",
   "execution_count": 4,
   "metadata": {},
   "outputs": [
    {
     "data": {
      "text/plain": [
       "(1, 1969, 53)"
      ]
     },
     "execution_count": 4,
     "metadata": {},
     "output_type": "execute_result"
    }
   ],
   "source": [
    "calendar_array = df_calendar.sort_values('date').drop(['date','wm_yr_wk', 'd'], axis=1).astype(int).values\n",
    "calendar_array = np.expand_dims(calendar_array, axis=0)\n",
    "calendar_array.shape"
   ]
  },
  {
   "cell_type": "code",
   "execution_count": 5,
   "metadata": {},
   "outputs": [],
   "source": [
    "pca_calendar = PCA(n_components=3)\n",
    "calendar_array_transformed = pca_calendar.fit_transform(df_calendar.sort_values('date').drop(['date','wm_yr_wk', 'd'], axis=1).astype(int))"
   ]
  },
  {
   "cell_type": "code",
   "execution_count": 6,
   "metadata": {},
   "outputs": [
    {
     "data": {
      "text/plain": [
       "[<matplotlib.lines.Line2D at 0x1fee9f366c8>]"
      ]
     },
     "execution_count": 6,
     "metadata": {},
     "output_type": "execute_result"
    },
    {
     "data": {
      "image/png": "[encoded data removed]",
      "text/plain": [
       "<Figure size 432x288 with 1 Axes>"
      ]
     },
     "metadata": {
      "needs_background": "light"
     },
     "output_type": "display_data"
    }
   ],
   "source": [
    "plot(pca_calendar.explained_variance_ratio_.cumsum())"
   ]
  },
  {
   "cell_type": "code",
   "execution_count": 7,
   "metadata": {},
   "outputs": [],
   "source": [
    "metadata_array = pd.get_dummies(df_metadata).values"
   ]
  },
  {
   "cell_type": "code",
   "execution_count": 8,
   "metadata": {},
   "outputs": [],
   "source": [
    "pca_meta = PCA(n_components=14)\n",
    "metadata_array_transformed = pca_meta.fit_transform(metadata_array)"
   ]
  },
  {
   "cell_type": "code",
   "execution_count": 9,
   "metadata": {},
   "outputs": [
    {
     "data": {
      "text/plain": [
       "[<matplotlib.lines.Line2D at 0x1fee9f40808>]"
      ]
     },
     "execution_count": 9,
     "metadata": {},
     "output_type": "execute_result"
    },
    {
     "data": {
      "image/png": "[encoded data removed]",
      "text/plain": [
       "<Figure size 432x288 with 1 Axes>"
      ]
     },
     "metadata": {
      "needs_background": "light"
     },
     "output_type": "display_data"
    }
   ],
   "source": [
    "plot(pca_meta.explained_variance_ratio_.cumsum())"
   ]
  },
  {
   "cell_type": "code",
   "execution_count": 10,
   "metadata": {},
   "outputs": [],
   "source": [
    "metadata_array_transformed_f16 = metadata_array_transformed.astype('float16')"
   ]
  },
  {
   "cell_type": "code",
   "execution_count": 11,
   "metadata": {},
   "outputs": [],
   "source": [
    "calendar_array_transformed_f16 = calendar_array_transformed.astype('float16')"
   ]
  },
  {
   "cell_type": "code",
   "execution_count": 77,
   "metadata": {},
   "outputs": [
    {
     "data": {
      "text/plain": [
       "0.0210718974290177"
      ]
     },
     "execution_count": 77,
     "metadata": {},
     "output_type": "execute_result"
    }
   ],
   "source": [
    "a = (calendar_array[0] == pca_calendar.inverse_transform(calendar_array_transformed_f16).round())\n",
    "(np.size(a) - np.count_nonzero(a)) / (a.shape[0] * a.shape[1])"
   ]
  },
  {
   "cell_type": "code",
   "execution_count": 68,
   "metadata": {},
   "outputs": [
    {
     "data": {
      "text/plain": [
       "0.004249433171246453"
      ]
     },
     "execution_count": 68,
     "metadata": {},
     "output_type": "execute_result"
    }
   ],
   "source": [
    "a = (metadata_array == pca_meta.inverse_transform(metadata_array_transformed_f16).round())\n",
    "(np.size(a) - np.count_nonzero(a)) / (a.shape[0] * a.shape[1])"
   ]
  },
  {
   "cell_type": "code",
   "execution_count": 19,
   "metadata": {},
   "outputs": [],
   "source": [
    "res = df_sell_prices.sort_values(['store_id', 'item_id', 'wm_yr_wk']).groupby(['store_id', 'item_id'])['sell_price'].diff().fillna(0)"
   ]
  },
  {
   "cell_type": "code",
   "execution_count": 20,
   "metadata": {},
   "outputs": [],
   "source": [
    "tmp = df_sell_prices.sort_values(['store_id', 'item_id', 'wm_yr_wk'])\n",
    "tmp['diff'] = res\n",
    "tmp['id'] = tmp['item_id'] + '_' + tmp['store_id'] + '_evaluation'"
   ]
  },
  {
   "cell_type": "code",
   "execution_count": 40,
   "metadata": {},
   "outputs": [],
   "source": [
    "res = tmp.pivot_table(values=['sell_price', 'diff'], index='wm_yr_wk', columns=['id']).fillna(0)"
   ]
  },
  {
   "cell_type": "code",
   "execution_count": 123,
   "metadata": {},
   "outputs": [],
   "source": [
    "pca_price = PCA(n_components=100, svd_solver='full')\n",
    "price_array = res.fillna(0).values.astype('float16')\n",
    "price_array_transformed = pca_price.fit_transform(price_array)"
   ]
  },
  {
   "cell_type": "code",
   "execution_count": 124,
   "metadata": {},
   "outputs": [
    {
     "data": {
      "text/plain": [
       "[<matplotlib.lines.Line2D at 0x1fe9dcc5f48>]"
      ]
     },
     "execution_count": 124,
     "metadata": {},
     "output_type": "execute_result"
    },
    {
     "data": {
      "image/png": "[encoded data removed]",
      "text/plain": [
       "<Figure size 432x288 with 1 Axes>"
      ]
     },
     "metadata": {
      "needs_background": "light"
     },
     "output_type": "display_data"
    }
   ],
   "source": [
    "plot(pca_price.explained_variance_ratio_.cumsum())"
   ]
  },
  {
   "cell_type": "code",
   "execution_count": 128,
   "metadata": {},
   "outputs": [],
   "source": [
    "price_array_transformed_f16 = price_array_transformed.astype('float16')"
   ]
  },
  {
   "cell_type": "code",
   "execution_count": 129,
   "metadata": {},
   "outputs": [
    {
     "data": {
      "text/plain": [
       "0.3887567485211987"
      ]
     },
     "execution_count": 129,
     "metadata": {},
     "output_type": "execute_result"
    }
   ],
   "source": [
    "a = (price_array == pca_price.inverse_transform(price_array_transformed).round())\n",
    "(np.size(a) - np.count_nonzero(a)) / (a.shape[0] * a.shape[1])"
   ]
  },
  {
   "cell_type": "code",
   "execution_count": 130,
   "metadata": {},
   "outputs": [
    {
     "data": {
      "text/plain": [
       "{'whiskers': [<matplotlib.lines.Line2D at 0x1fedbf23408>,\n",
       "  <matplotlib.lines.Line2D at 0x1fedbf19e88>],\n",
       " 'caps': [<matplotlib.lines.Line2D at 0x1fedbf23ec8>,\n",
       "  <matplotlib.lines.Line2D at 0x1fedbf23fc8>],\n",
       " 'boxes': [<matplotlib.lines.Line2D at 0x1fedbf19cc8>],\n",
       " 'medians': [<matplotlib.lines.Line2D at 0x1fedbf289c8>],\n",
       " 'fliers': [<matplotlib.lines.Line2D at 0x1fedbf28f08>],\n",
       " 'means': []}"
      ]
     },
     "execution_count": 130,
     "metadata": {},
     "output_type": "execute_result"
    },
    {
     "data": {
      "image/png": "[encoded data removed]",
      "text/plain": [
       "<Figure size 432x288 with 1 Axes>"
      ]
     },
     "metadata": {
      "needs_background": "light"
     },
     "output_type": "display_data"
    }
   ],
   "source": [
    "boxplot(np.ravel(abs(price_array - pca_price.inverse_transform(price_array_transformed).round())))"
   ]
  },
  {
   "cell_type": "code",
   "execution_count": null,
   "metadata": {},
   "outputs": [],
   "source": []
  }
 ],
 "metadata": {
  "kernelspec": {
   "display_name": "Python 3",
   "language": "python",
   "name": "python3"
  },
  "language_info": {
   "codemirror_mode": {
    "name": "ipython",
    "version": 3
   },
   "file_extension": ".py",
   "mimetype": "text/x-python",
   "name": "python",
   "nbconvert_exporter": "python",
   "pygments_lexer": "ipython3",
   "version": "3.7.7"
  }
 },
 "nbformat": 4,
 "nbformat_minor": 4
}
